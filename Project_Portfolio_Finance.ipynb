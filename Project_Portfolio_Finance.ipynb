{
  "nbformat": 4,
  "nbformat_minor": 0,
  "metadata": {
    "colab": {
      "provenance": [],
      "include_colab_link": true
    },
    "kernelspec": {
      "name": "python3",
      "display_name": "Python 3"
    },
    "language_info": {
      "name": "python"
    }
  },
  "cells": [
    {
      "cell_type": "markdown",
      "metadata": {
        "id": "view-in-github",
        "colab_type": "text"
      },
      "source": [
        "<a href=\"https://colab.research.google.com/github/soufianegouait/Portfolio/blob/main/Project_Portfolio_Finance.ipynb\" target=\"_parent\"><img src=\"https://colab.research.google.com/assets/colab-badge.svg\" alt=\"Open In Colab\"/></a>"
      ]
    },
    {
      "cell_type": "markdown",
      "source": [
        "\n",
        "\n",
        "## **Portfolio Optimization with Python (Managem, Google, Apple, Tesla, Microsoft, Netflix, Amazon, Paypal, Meta and TGT)**"
      ],
      "metadata": {
        "id": "JRBFcmHy9t2M"
      }
    },
    {
      "cell_type": "markdown",
      "source": [
        "In this project we are going to find the optimal combination of assets to invest in **Managem, Google, Apple, Tesla, Microsoft, Netflix, Amazon, Paypal, Meta and TGT**.\n",
        "First of all , we suppose that our customer didn't give any restrictions of volatility, so the whole equity will be invested in the stocks of those companies. \\\\\n",
        "*Rq* :before executing the program: install libraries: \\\\\n",
        "pip install pandas_datareader \\\\\n",
        "pip intall Yfinance (import data from yahoo)."
      ],
      "metadata": {
        "id": "-RMeIMnTiBAM"
      }
    },
    {
      "cell_type": "code",
      "source": [
        "pip install Yfinance"
      ],
      "metadata": {
        "id": "9HYJ-xJLAlVe"
      },
      "execution_count": null,
      "outputs": []
    },
    {
      "cell_type": "code",
      "source": [
        "pip install pandas-datareader --upgrade"
      ],
      "metadata": {
        "id": "MiP9VJMkA39l"
      },
      "execution_count": null,
      "outputs": []
    },
    {
      "cell_type": "code",
      "execution_count": null,
      "metadata": {
        "id": "mjCkV9JN61bb"
      },
      "outputs": [],
      "source": [
        "\n",
        "#Import the python libraries\n",
        "from pandas_datareader import data as web\n",
        "import pandas as pd\n",
        "import numpy as np\n",
        "import yfinance as yf\n",
        "yf.pdr_override()\n",
        "from datetime import datetime\n",
        "import matplotlib.pyplot as plt\n",
        "plt.style.use('fivethirtyeight')\n"
      ]
    },
    {
      "cell_type": "code",
      "source": [
        "#Get the stock tickers in the portfolio of Managem and google\n",
        "assets = ['GOOG','MNG','TSLA','AAPL','MSFT','AMZN','TGT','META','NFLX','PYPL']"
      ],
      "metadata": {
        "id": "fPaFJ_IQ_gxy"
      },
      "execution_count": null,
      "outputs": []
    },
    {
      "cell_type": "markdown",
      "source": [
        "We will give initial values [10%]*10 , just to illustrate the calculation of some parameters."
      ],
      "metadata": {
        "id": "w3g0LSgtn-ma"
      }
    },
    {
      "cell_type": "code",
      "source": [
        "#Assign weights to the stocks. ()\n",
        "weights = np.array([0.1]*10)"
      ],
      "metadata": {
        "id": "_EGVp5tHAL9a"
      },
      "execution_count": null,
      "outputs": []
    },
    {
      "cell_type": "code",
      "source": [
        "# Get the stock/ portfolio starting date\n",
        "stockStartDate = '2018-01-01'"
      ],
      "metadata": {
        "id": "YaeAQoP1AXNr"
      },
      "execution_count": null,
      "outputs": []
    },
    {
      "cell_type": "code",
      "source": [
        "# Get the stocks' ending date (today)\n",
        "today = '2021-01-01'\n",
        "#today = datetime.today().strftime('%Y-%m-%d')\n",
        "today"
      ],
      "metadata": {
        "colab": {
          "base_uri": "https://localhost:8080/",
          "height": 35
        },
        "id": "2xvRbDmbAyNl",
        "outputId": "520d79ac-b08a-42bc-8c7d-b66c1b6e5189"
      },
      "execution_count": null,
      "outputs": [
        {
          "output_type": "execute_result",
          "data": {
            "text/plain": [
              "'2021-01-01'"
            ],
            "application/vnd.google.colaboratory.intrinsic+json": {
              "type": "string"
            }
          },
          "metadata": {},
          "execution_count": 105
        }
      ]
    },
    {
      "cell_type": "code",
      "source": [
        "import yfinance as yf\n",
        "import pandas as pd\n",
        "\n",
        "df = pd.DataFrame()\n",
        "\n",
        "for stock in assets:\n",
        "    data = yf.download(stock, start=stockStartDate, end=today)\n",
        "    df[stock] = data['Adj Close']\n"
      ],
      "metadata": {
        "colab": {
          "base_uri": "https://localhost:8080/"
        },
        "id": "EkxP-osGB4bQ",
        "outputId": "80441b9f-0dea-410f-a2df-4640eb5dc3fd"
      },
      "execution_count": null,
      "outputs": [
        {
          "output_type": "stream",
          "name": "stdout",
          "text": [
            "[*********************100%***********************]  1 of 1 completed\n",
            "[*********************100%***********************]  1 of 1 completed\n",
            "[*********************100%***********************]  1 of 1 completed\n",
            "[*********************100%***********************]  1 of 1 completed\n",
            "[*********************100%***********************]  1 of 1 completed\n",
            "[*********************100%***********************]  1 of 1 completed\n",
            "[*********************100%***********************]  1 of 1 completed\n",
            "[*********************100%***********************]  1 of 1 completed\n",
            "[*********************100%***********************]  1 of 1 completed\n",
            "[*********************100%***********************]  1 of 1 completed\n"
          ]
        }
      ]
    },
    {
      "cell_type": "code",
      "source": [
        "df"
      ],
      "metadata": {
        "colab": {
          "base_uri": "https://localhost:8080/",
          "height": 455
        },
        "id": "5BHUhIXQHVrw",
        "outputId": "23c002d0-0114-4fac-9fa8-b28320e8762e"
      },
      "execution_count": null,
      "outputs": [
        {
          "output_type": "execute_result",
          "data": {
            "text/plain": [
              "                 GOOG        MNG        TSLA        AAPL        MSFT  \\\n",
              "Date                                                                   \n",
              "2018-01-02  53.250000  54.549999   21.368668   40.831589   80.562035   \n",
              "2018-01-03  54.124001  54.889999   21.150000   40.824474   80.936981   \n",
              "2018-01-04  54.320000  54.980000   20.974667   41.014114   81.649338   \n",
              "2018-01-05  55.111500  54.330002   21.105333   41.481056   82.661636   \n",
              "2018-01-08  55.347000  54.680000   22.427334   41.326992   82.746010   \n",
              "...               ...        ...         ...         ...         ...   \n",
              "2020-12-24  86.942497  28.820000  220.589996  130.025925  217.824738   \n",
              "2020-12-28  88.804497  28.110001  221.229996  134.676392  219.985916   \n",
              "2020-12-29  87.935997  27.930000  221.996674  132.883209  219.193802   \n",
              "2020-12-30  86.975998  28.490000  231.593338  131.750183  216.778442   \n",
              "2020-12-31  87.594002  28.410000  235.223328  130.735321  217.502075   \n",
              "\n",
              "                  AMZN         TGT        META        NFLX        PYPL  \n",
              "Date                                                                    \n",
              "2018-01-02   59.450500   59.278320  181.419998  201.070007   73.839996  \n",
              "2018-01-03   60.209999   58.875122  184.669998  205.050003   76.750000  \n",
              "2018-01-04   60.479500   57.718140  184.330002  205.630005   76.730003  \n",
              "2018-01-05   61.457001   58.331696  186.850006  209.990005   78.699997  \n",
              "2018-01-08   62.343498   58.883877  188.279999  212.050003   79.050003  \n",
              "...                ...         ...         ...         ...         ...  \n",
              "2020-12-24  158.634506  167.050232  267.399994  513.969971  238.639999  \n",
              "2020-12-28  164.197998  168.194473  277.000000  519.119995  235.729996  \n",
              "2020-12-29  166.100006  166.907166  276.779999  530.869995  231.029999  \n",
              "2020-12-30  164.292496  165.801071  271.869995  524.590027  231.509995  \n",
              "2020-12-31  162.846497  168.327957  273.160004  540.729980  234.199997  \n",
              "\n",
              "[756 rows x 10 columns]"
            ],
            "text/html": [
              "\n",
              "  <div id=\"df-e524a298-a333-4758-b18a-9fda4702845c\">\n",
              "    <div class=\"colab-df-container\">\n",
              "      <div>\n",
              "<style scoped>\n",
              "    .dataframe tbody tr th:only-of-type {\n",
              "        vertical-align: middle;\n",
              "    }\n",
              "\n",
              "    .dataframe tbody tr th {\n",
              "        vertical-align: top;\n",
              "    }\n",
              "\n",
              "    .dataframe thead th {\n",
              "        text-align: right;\n",
              "    }\n",
              "</style>\n",
              "<table border=\"1\" class=\"dataframe\">\n",
              "  <thead>\n",
              "    <tr style=\"text-align: right;\">\n",
              "      <th></th>\n",
              "      <th>GOOG</th>\n",
              "      <th>MNG</th>\n",
              "      <th>TSLA</th>\n",
              "      <th>AAPL</th>\n",
              "      <th>MSFT</th>\n",
              "      <th>AMZN</th>\n",
              "      <th>TGT</th>\n",
              "      <th>META</th>\n",
              "      <th>NFLX</th>\n",
              "      <th>PYPL</th>\n",
              "    </tr>\n",
              "    <tr>\n",
              "      <th>Date</th>\n",
              "      <th></th>\n",
              "      <th></th>\n",
              "      <th></th>\n",
              "      <th></th>\n",
              "      <th></th>\n",
              "      <th></th>\n",
              "      <th></th>\n",
              "      <th></th>\n",
              "      <th></th>\n",
              "      <th></th>\n",
              "    </tr>\n",
              "  </thead>\n",
              "  <tbody>\n",
              "    <tr>\n",
              "      <th>2018-01-02</th>\n",
              "      <td>53.250000</td>\n",
              "      <td>54.549999</td>\n",
              "      <td>21.368668</td>\n",
              "      <td>40.831589</td>\n",
              "      <td>80.562035</td>\n",
              "      <td>59.450500</td>\n",
              "      <td>59.278320</td>\n",
              "      <td>181.419998</td>\n",
              "      <td>201.070007</td>\n",
              "      <td>73.839996</td>\n",
              "    </tr>\n",
              "    <tr>\n",
              "      <th>2018-01-03</th>\n",
              "      <td>54.124001</td>\n",
              "      <td>54.889999</td>\n",
              "      <td>21.150000</td>\n",
              "      <td>40.824474</td>\n",
              "      <td>80.936981</td>\n",
              "      <td>60.209999</td>\n",
              "      <td>58.875122</td>\n",
              "      <td>184.669998</td>\n",
              "      <td>205.050003</td>\n",
              "      <td>76.750000</td>\n",
              "    </tr>\n",
              "    <tr>\n",
              "      <th>2018-01-04</th>\n",
              "      <td>54.320000</td>\n",
              "      <td>54.980000</td>\n",
              "      <td>20.974667</td>\n",
              "      <td>41.014114</td>\n",
              "      <td>81.649338</td>\n",
              "      <td>60.479500</td>\n",
              "      <td>57.718140</td>\n",
              "      <td>184.330002</td>\n",
              "      <td>205.630005</td>\n",
              "      <td>76.730003</td>\n",
              "    </tr>\n",
              "    <tr>\n",
              "      <th>2018-01-05</th>\n",
              "      <td>55.111500</td>\n",
              "      <td>54.330002</td>\n",
              "      <td>21.105333</td>\n",
              "      <td>41.481056</td>\n",
              "      <td>82.661636</td>\n",
              "      <td>61.457001</td>\n",
              "      <td>58.331696</td>\n",
              "      <td>186.850006</td>\n",
              "      <td>209.990005</td>\n",
              "      <td>78.699997</td>\n",
              "    </tr>\n",
              "    <tr>\n",
              "      <th>2018-01-08</th>\n",
              "      <td>55.347000</td>\n",
              "      <td>54.680000</td>\n",
              "      <td>22.427334</td>\n",
              "      <td>41.326992</td>\n",
              "      <td>82.746010</td>\n",
              "      <td>62.343498</td>\n",
              "      <td>58.883877</td>\n",
              "      <td>188.279999</td>\n",
              "      <td>212.050003</td>\n",
              "      <td>79.050003</td>\n",
              "    </tr>\n",
              "    <tr>\n",
              "      <th>...</th>\n",
              "      <td>...</td>\n",
              "      <td>...</td>\n",
              "      <td>...</td>\n",
              "      <td>...</td>\n",
              "      <td>...</td>\n",
              "      <td>...</td>\n",
              "      <td>...</td>\n",
              "      <td>...</td>\n",
              "      <td>...</td>\n",
              "      <td>...</td>\n",
              "    </tr>\n",
              "    <tr>\n",
              "      <th>2020-12-24</th>\n",
              "      <td>86.942497</td>\n",
              "      <td>28.820000</td>\n",
              "      <td>220.589996</td>\n",
              "      <td>130.025925</td>\n",
              "      <td>217.824738</td>\n",
              "      <td>158.634506</td>\n",
              "      <td>167.050232</td>\n",
              "      <td>267.399994</td>\n",
              "      <td>513.969971</td>\n",
              "      <td>238.639999</td>\n",
              "    </tr>\n",
              "    <tr>\n",
              "      <th>2020-12-28</th>\n",
              "      <td>88.804497</td>\n",
              "      <td>28.110001</td>\n",
              "      <td>221.229996</td>\n",
              "      <td>134.676392</td>\n",
              "      <td>219.985916</td>\n",
              "      <td>164.197998</td>\n",
              "      <td>168.194473</td>\n",
              "      <td>277.000000</td>\n",
              "      <td>519.119995</td>\n",
              "      <td>235.729996</td>\n",
              "    </tr>\n",
              "    <tr>\n",
              "      <th>2020-12-29</th>\n",
              "      <td>87.935997</td>\n",
              "      <td>27.930000</td>\n",
              "      <td>221.996674</td>\n",
              "      <td>132.883209</td>\n",
              "      <td>219.193802</td>\n",
              "      <td>166.100006</td>\n",
              "      <td>166.907166</td>\n",
              "      <td>276.779999</td>\n",
              "      <td>530.869995</td>\n",
              "      <td>231.029999</td>\n",
              "    </tr>\n",
              "    <tr>\n",
              "      <th>2020-12-30</th>\n",
              "      <td>86.975998</td>\n",
              "      <td>28.490000</td>\n",
              "      <td>231.593338</td>\n",
              "      <td>131.750183</td>\n",
              "      <td>216.778442</td>\n",
              "      <td>164.292496</td>\n",
              "      <td>165.801071</td>\n",
              "      <td>271.869995</td>\n",
              "      <td>524.590027</td>\n",
              "      <td>231.509995</td>\n",
              "    </tr>\n",
              "    <tr>\n",
              "      <th>2020-12-31</th>\n",
              "      <td>87.594002</td>\n",
              "      <td>28.410000</td>\n",
              "      <td>235.223328</td>\n",
              "      <td>130.735321</td>\n",
              "      <td>217.502075</td>\n",
              "      <td>162.846497</td>\n",
              "      <td>168.327957</td>\n",
              "      <td>273.160004</td>\n",
              "      <td>540.729980</td>\n",
              "      <td>234.199997</td>\n",
              "    </tr>\n",
              "  </tbody>\n",
              "</table>\n",
              "<p>756 rows × 10 columns</p>\n",
              "</div>\n",
              "      <button class=\"colab-df-convert\" onclick=\"convertToInteractive('df-e524a298-a333-4758-b18a-9fda4702845c')\"\n",
              "              title=\"Convert this dataframe to an interactive table.\"\n",
              "              style=\"display:none;\">\n",
              "        \n",
              "  <svg xmlns=\"http://www.w3.org/2000/svg\" height=\"24px\"viewBox=\"0 0 24 24\"\n",
              "       width=\"24px\">\n",
              "    <path d=\"M0 0h24v24H0V0z\" fill=\"none\"/>\n",
              "    <path d=\"M18.56 5.44l.94 2.06.94-2.06 2.06-.94-2.06-.94-.94-2.06-.94 2.06-2.06.94zm-11 1L8.5 8.5l.94-2.06 2.06-.94-2.06-.94L8.5 2.5l-.94 2.06-2.06.94zm10 10l.94 2.06.94-2.06 2.06-.94-2.06-.94-.94-2.06-.94 2.06-2.06.94z\"/><path d=\"M17.41 7.96l-1.37-1.37c-.4-.4-.92-.59-1.43-.59-.52 0-1.04.2-1.43.59L10.3 9.45l-7.72 7.72c-.78.78-.78 2.05 0 2.83L4 21.41c.39.39.9.59 1.41.59.51 0 1.02-.2 1.41-.59l7.78-7.78 2.81-2.81c.8-.78.8-2.07 0-2.86zM5.41 20L4 18.59l7.72-7.72 1.47 1.35L5.41 20z\"/>\n",
              "  </svg>\n",
              "      </button>\n",
              "      \n",
              "  <style>\n",
              "    .colab-df-container {\n",
              "      display:flex;\n",
              "      flex-wrap:wrap;\n",
              "      gap: 12px;\n",
              "    }\n",
              "\n",
              "    .colab-df-convert {\n",
              "      background-color: #E8F0FE;\n",
              "      border: none;\n",
              "      border-radius: 50%;\n",
              "      cursor: pointer;\n",
              "      display: none;\n",
              "      fill: #1967D2;\n",
              "      height: 32px;\n",
              "      padding: 0 0 0 0;\n",
              "      width: 32px;\n",
              "    }\n",
              "\n",
              "    .colab-df-convert:hover {\n",
              "      background-color: #E2EBFA;\n",
              "      box-shadow: 0px 1px 2px rgba(60, 64, 67, 0.3), 0px 1px 3px 1px rgba(60, 64, 67, 0.15);\n",
              "      fill: #174EA6;\n",
              "    }\n",
              "\n",
              "    [theme=dark] .colab-df-convert {\n",
              "      background-color: #3B4455;\n",
              "      fill: #D2E3FC;\n",
              "    }\n",
              "\n",
              "    [theme=dark] .colab-df-convert:hover {\n",
              "      background-color: #434B5C;\n",
              "      box-shadow: 0px 1px 3px 1px rgba(0, 0, 0, 0.15);\n",
              "      filter: drop-shadow(0px 1px 2px rgba(0, 0, 0, 0.3));\n",
              "      fill: #FFFFFF;\n",
              "    }\n",
              "  </style>\n",
              "\n",
              "      <script>\n",
              "        const buttonEl =\n",
              "          document.querySelector('#df-e524a298-a333-4758-b18a-9fda4702845c button.colab-df-convert');\n",
              "        buttonEl.style.display =\n",
              "          google.colab.kernel.accessAllowed ? 'block' : 'none';\n",
              "\n",
              "        async function convertToInteractive(key) {\n",
              "          const element = document.querySelector('#df-e524a298-a333-4758-b18a-9fda4702845c');\n",
              "          const dataTable =\n",
              "            await google.colab.kernel.invokeFunction('convertToInteractive',\n",
              "                                                     [key], {});\n",
              "          if (!dataTable) return;\n",
              "\n",
              "          const docLinkHtml = 'Like what you see? Visit the ' +\n",
              "            '<a target=\"_blank\" href=https://colab.research.google.com/notebooks/data_table.ipynb>data table notebook</a>'\n",
              "            + ' to learn more about interactive tables.';\n",
              "          element.innerHTML = '';\n",
              "          dataTable['output_type'] = 'display_data';\n",
              "          await google.colab.output.renderOutput(dataTable, element);\n",
              "          const docLink = document.createElement('div');\n",
              "          docLink.innerHTML = docLinkHtml;\n",
              "          element.appendChild(docLink);\n",
              "        }\n",
              "      </script>\n",
              "    </div>\n",
              "  </div>\n",
              "  "
            ]
          },
          "metadata": {},
          "execution_count": 107
        }
      ]
    },
    {
      "cell_type": "code",
      "source": [
        "# Visually show the stock/ portfolio\n",
        "title = 'Portfolio Adj. Close Price History'\n",
        "\n",
        "# Get the stocks\n",
        "my_stocks = df\n",
        "\n",
        "# Create and plot the graph\n",
        "for c in my_stocks.columns.values:\n",
        "  plt.plot(my_stocks[c],label=c)\n",
        "\n",
        "plt.title(title)\n",
        "plt.xlabel('Date',fontsize=15)\n",
        "plt.ylabel('Adj. Price USD ($)',fontsize=15)\n",
        "plt.legend(my_stocks.columns.values,loc='upper left')\n",
        "plt.show()"
      ],
      "metadata": {
        "colab": {
          "base_uri": "https://localhost:8080/",
          "height": 505
        },
        "id": "32YD2YSYH8CV",
        "outputId": "bcf5a2cc-48fb-46cf-c084-0204885db25c"
      },
      "execution_count": null,
      "outputs": [
        {
          "output_type": "display_data",
          "data": {
            "text/plain": [
              "<Figure size 640x480 with 1 Axes>"
            ],
            "image/png": "[encoded data removed]"
          },
          "metadata": {}
        }
      ]
    },
    {
      "cell_type": "code",
      "source": [
        "# show the daily simple return\n",
        "returns = df.pct_change()\n",
        "returns"
      ],
      "metadata": {
        "colab": {
          "base_uri": "https://localhost:8080/",
          "height": 455
        },
        "id": "ivf4fAJNIgO_",
        "outputId": "dfad428e-ebe2-432b-fe14-eba7e142d6a6"
      },
      "execution_count": null,
      "outputs": [
        {
          "output_type": "execute_result",
          "data": {
            "text/plain": [
              "                GOOG       MNG      TSLA      AAPL      MSFT      AMZN  \\\n",
              "Date                                                                     \n",
              "2018-01-02       NaN       NaN       NaN       NaN       NaN       NaN   \n",
              "2018-01-03  0.016413  0.006233 -0.010233 -0.000174  0.004654  0.012775   \n",
              "2018-01-04  0.003621  0.001640 -0.008290  0.004645  0.008801  0.004476   \n",
              "2018-01-05  0.014571 -0.011822  0.006230  0.011385  0.012398  0.016163   \n",
              "2018-01-08  0.004273  0.006442  0.062638 -0.003714  0.001021  0.014425   \n",
              "...              ...       ...       ...       ...       ...       ...   \n",
              "2020-12-24  0.003735 -0.010302  0.024443  0.007712  0.007827 -0.003949   \n",
              "2020-12-28  0.021416 -0.024636  0.002901  0.035766  0.009922  0.035071   \n",
              "2020-12-29 -0.009780 -0.006403  0.003466 -0.013315 -0.003601  0.011584   \n",
              "2020-12-30 -0.010917  0.020050  0.043229 -0.008526 -0.011019 -0.010882   \n",
              "2020-12-31  0.007105 -0.002808  0.015674 -0.007703  0.003338 -0.008801   \n",
              "\n",
              "                 TGT      META      NFLX      PYPL  \n",
              "Date                                                \n",
              "2018-01-02       NaN       NaN       NaN       NaN  \n",
              "2018-01-03 -0.006802  0.017914  0.019794  0.039410  \n",
              "2018-01-04 -0.019651 -0.001841  0.002829 -0.000261  \n",
              "2018-01-05  0.010630  0.013671  0.021203  0.025674  \n",
              "2018-01-08  0.009466  0.007653  0.009810  0.004447  \n",
              "...              ...       ...       ...       ...  \n",
              "2020-12-24  0.001601 -0.002648 -0.000991 -0.003341  \n",
              "2020-12-28  0.006850  0.035901  0.010020 -0.012194  \n",
              "2020-12-29 -0.007654 -0.000794  0.022634 -0.019938  \n",
              "2020-12-30 -0.006627 -0.017740 -0.011830  0.002078  \n",
              "2020-12-31  0.015240  0.004745  0.030767  0.011619  \n",
              "\n",
              "[756 rows x 10 columns]"
            ],
            "text/html": [
              "\n",
              "  <div id=\"df-f718caca-1548-4661-8fae-935274cdf696\">\n",
              "    <div class=\"colab-df-container\">\n",
              "      <div>\n",
              "<style scoped>\n",
              "    .dataframe tbody tr th:only-of-type {\n",
              "        vertical-align: middle;\n",
              "    }\n",
              "\n",
              "    .dataframe tbody tr th {\n",
              "        vertical-align: top;\n",
              "    }\n",
              "\n",
              "    .dataframe thead th {\n",
              "        text-align: right;\n",
              "    }\n",
              "</style>\n",
              "<table border=\"1\" class=\"dataframe\">\n",
              "  <thead>\n",
              "    <tr style=\"text-align: right;\">\n",
              "      <th></th>\n",
              "      <th>GOOG</th>\n",
              "      <th>MNG</th>\n",
              "      <th>TSLA</th>\n",
              "      <th>AAPL</th>\n",
              "      <th>MSFT</th>\n",
              "      <th>AMZN</th>\n",
              "      <th>TGT</th>\n",
              "      <th>META</th>\n",
              "      <th>NFLX</th>\n",
              "      <th>PYPL</th>\n",
              "    </tr>\n",
              "    <tr>\n",
              "      <th>Date</th>\n",
              "      <th></th>\n",
              "      <th></th>\n",
              "      <th></th>\n",
              "      <th></th>\n",
              "      <th></th>\n",
              "      <th></th>\n",
              "      <th></th>\n",
              "      <th></th>\n",
              "      <th></th>\n",
              "      <th></th>\n",
              "    </tr>\n",
              "  </thead>\n",
              "  <tbody>\n",
              "    <tr>\n",
              "      <th>2018-01-02</th>\n",
              "      <td>NaN</td>\n",
              "      <td>NaN</td>\n",
              "      <td>NaN</td>\n",
              "      <td>NaN</td>\n",
              "      <td>NaN</td>\n",
              "      <td>NaN</td>\n",
              "      <td>NaN</td>\n",
              "      <td>NaN</td>\n",
              "      <td>NaN</td>\n",
              "      <td>NaN</td>\n",
              "    </tr>\n",
              "    <tr>\n",
              "      <th>2018-01-03</th>\n",
              "      <td>0.016413</td>\n",
              "      <td>0.006233</td>\n",
              "      <td>-0.010233</td>\n",
              "      <td>-0.000174</td>\n",
              "      <td>0.004654</td>\n",
              "      <td>0.012775</td>\n",
              "      <td>-0.006802</td>\n",
              "      <td>0.017914</td>\n",
              "      <td>0.019794</td>\n",
              "      <td>0.039410</td>\n",
              "    </tr>\n",
              "    <tr>\n",
              "      <th>2018-01-04</th>\n",
              "      <td>0.003621</td>\n",
              "      <td>0.001640</td>\n",
              "      <td>-0.008290</td>\n",
              "      <td>0.004645</td>\n",
              "      <td>0.008801</td>\n",
              "      <td>0.004476</td>\n",
              "      <td>-0.019651</td>\n",
              "      <td>-0.001841</td>\n",
              "      <td>0.002829</td>\n",
              "      <td>-0.000261</td>\n",
              "    </tr>\n",
              "    <tr>\n",
              "      <th>2018-01-05</th>\n",
              "      <td>0.014571</td>\n",
              "      <td>-0.011822</td>\n",
              "      <td>0.006230</td>\n",
              "      <td>0.011385</td>\n",
              "      <td>0.012398</td>\n",
              "      <td>0.016163</td>\n",
              "      <td>0.010630</td>\n",
              "      <td>0.013671</td>\n",
              "      <td>0.021203</td>\n",
              "      <td>0.025674</td>\n",
              "    </tr>\n",
              "    <tr>\n",
              "      <th>2018-01-08</th>\n",
              "      <td>0.004273</td>\n",
              "      <td>0.006442</td>\n",
              "      <td>0.062638</td>\n",
              "      <td>-0.003714</td>\n",
              "      <td>0.001021</td>\n",
              "      <td>0.014425</td>\n",
              "      <td>0.009466</td>\n",
              "      <td>0.007653</td>\n",
              "      <td>0.009810</td>\n",
              "      <td>0.004447</td>\n",
              "    </tr>\n",
              "    <tr>\n",
              "      <th>...</th>\n",
              "      <td>...</td>\n",
              "      <td>...</td>\n",
              "      <td>...</td>\n",
              "      <td>...</td>\n",
              "      <td>...</td>\n",
              "      <td>...</td>\n",
              "      <td>...</td>\n",
              "      <td>...</td>\n",
              "      <td>...</td>\n",
              "      <td>...</td>\n",
              "    </tr>\n",
              "    <tr>\n",
              "      <th>2020-12-24</th>\n",
              "      <td>0.003735</td>\n",
              "      <td>-0.010302</td>\n",
              "      <td>0.024443</td>\n",
              "      <td>0.007712</td>\n",
              "      <td>0.007827</td>\n",
              "      <td>-0.003949</td>\n",
              "      <td>0.001601</td>\n",
              "      <td>-0.002648</td>\n",
              "      <td>-0.000991</td>\n",
              "      <td>-0.003341</td>\n",
              "    </tr>\n",
              "    <tr>\n",
              "      <th>2020-12-28</th>\n",
              "      <td>0.021416</td>\n",
              "      <td>-0.024636</td>\n",
              "      <td>0.002901</td>\n",
              "      <td>0.035766</td>\n",
              "      <td>0.009922</td>\n",
              "      <td>0.035071</td>\n",
              "      <td>0.006850</td>\n",
              "      <td>0.035901</td>\n",
              "      <td>0.010020</td>\n",
              "      <td>-0.012194</td>\n",
              "    </tr>\n",
              "    <tr>\n",
              "      <th>2020-12-29</th>\n",
              "      <td>-0.009780</td>\n",
              "      <td>-0.006403</td>\n",
              "      <td>0.003466</td>\n",
              "      <td>-0.013315</td>\n",
              "      <td>-0.003601</td>\n",
              "      <td>0.011584</td>\n",
              "      <td>-0.007654</td>\n",
              "      <td>-0.000794</td>\n",
              "      <td>0.022634</td>\n",
              "      <td>-0.019938</td>\n",
              "    </tr>\n",
              "    <tr>\n",
              "      <th>2020-12-30</th>\n",
              "      <td>-0.010917</td>\n",
              "      <td>0.020050</td>\n",
              "      <td>0.043229</td>\n",
              "      <td>-0.008526</td>\n",
              "      <td>-0.011019</td>\n",
              "      <td>-0.010882</td>\n",
              "      <td>-0.006627</td>\n",
              "      <td>-0.017740</td>\n",
              "      <td>-0.011830</td>\n",
              "      <td>0.002078</td>\n",
              "    </tr>\n",
              "    <tr>\n",
              "      <th>2020-12-31</th>\n",
              "      <td>0.007105</td>\n",
              "      <td>-0.002808</td>\n",
              "      <td>0.015674</td>\n",
              "      <td>-0.007703</td>\n",
              "      <td>0.003338</td>\n",
              "      <td>-0.008801</td>\n",
              "      <td>0.015240</td>\n",
              "      <td>0.004745</td>\n",
              "      <td>0.030767</td>\n",
              "      <td>0.011619</td>\n",
              "    </tr>\n",
              "  </tbody>\n",
              "</table>\n",
              "<p>756 rows × 10 columns</p>\n",
              "</div>\n",
              "      <button class=\"colab-df-convert\" onclick=\"convertToInteractive('df-f718caca-1548-4661-8fae-935274cdf696')\"\n",
              "              title=\"Convert this dataframe to an interactive table.\"\n",
              "              style=\"display:none;\">\n",
              "        \n",
              "  <svg xmlns=\"http://www.w3.org/2000/svg\" height=\"24px\"viewBox=\"0 0 24 24\"\n",
              "       width=\"24px\">\n",
              "    <path d=\"M0 0h24v24H0V0z\" fill=\"none\"/>\n",
              "    <path d=\"M18.56 5.44l.94 2.06.94-2.06 2.06-.94-2.06-.94-.94-2.06-.94 2.06-2.06.94zm-11 1L8.5 8.5l.94-2.06 2.06-.94-2.06-.94L8.5 2.5l-.94 2.06-2.06.94zm10 10l.94 2.06.94-2.06 2.06-.94-2.06-.94-.94-2.06-.94 2.06-2.06.94z\"/><path d=\"M17.41 7.96l-1.37-1.37c-.4-.4-.92-.59-1.43-.59-.52 0-1.04.2-1.43.59L10.3 9.45l-7.72 7.72c-.78.78-.78 2.05 0 2.83L4 21.41c.39.39.9.59 1.41.59.51 0 1.02-.2 1.41-.59l7.78-7.78 2.81-2.81c.8-.78.8-2.07 0-2.86zM5.41 20L4 18.59l7.72-7.72 1.47 1.35L5.41 20z\"/>\n",
              "  </svg>\n",
              "      </button>\n",
              "      \n",
              "  <style>\n",
              "    .colab-df-container {\n",
              "      display:flex;\n",
              "      flex-wrap:wrap;\n",
              "      gap: 12px;\n",
              "    }\n",
              "\n",
              "    .colab-df-convert {\n",
              "      background-color: #E8F0FE;\n",
              "      border: none;\n",
              "      border-radius: 50%;\n",
              "      cursor: pointer;\n",
              "      display: none;\n",
              "      fill: #1967D2;\n",
              "      height: 32px;\n",
              "      padding: 0 0 0 0;\n",
              "      width: 32px;\n",
              "    }\n",
              "\n",
              "    .colab-df-convert:hover {\n",
              "      background-color: #E2EBFA;\n",
              "      box-shadow: 0px 1px 2px rgba(60, 64, 67, 0.3), 0px 1px 3px 1px rgba(60, 64, 67, 0.15);\n",
              "      fill: #174EA6;\n",
              "    }\n",
              "\n",
              "    [theme=dark] .colab-df-convert {\n",
              "      background-color: #3B4455;\n",
              "      fill: #D2E3FC;\n",
              "    }\n",
              "\n",
              "    [theme=dark] .colab-df-convert:hover {\n",
              "      background-color: #434B5C;\n",
              "      box-shadow: 0px 1px 3px 1px rgba(0, 0, 0, 0.15);\n",
              "      filter: drop-shadow(0px 1px 2px rgba(0, 0, 0, 0.3));\n",
              "      fill: #FFFFFF;\n",
              "    }\n",
              "  </style>\n",
              "\n",
              "      <script>\n",
              "        const buttonEl =\n",
              "          document.querySelector('#df-f718caca-1548-4661-8fae-935274cdf696 button.colab-df-convert');\n",
              "        buttonEl.style.display =\n",
              "          google.colab.kernel.accessAllowed ? 'block' : 'none';\n",
              "\n",
              "        async function convertToInteractive(key) {\n",
              "          const element = document.querySelector('#df-f718caca-1548-4661-8fae-935274cdf696');\n",
              "          const dataTable =\n",
              "            await google.colab.kernel.invokeFunction('convertToInteractive',\n",
              "                                                     [key], {});\n",
              "          if (!dataTable) return;\n",
              "\n",
              "          const docLinkHtml = 'Like what you see? Visit the ' +\n",
              "            '<a target=\"_blank\" href=https://colab.research.google.com/notebooks/data_table.ipynb>data table notebook</a>'\n",
              "            + ' to learn more about interactive tables.';\n",
              "          element.innerHTML = '';\n",
              "          dataTable['output_type'] = 'display_data';\n",
              "          await google.colab.output.renderOutput(dataTable, element);\n",
              "          const docLink = document.createElement('div');\n",
              "          docLink.innerHTML = docLinkHtml;\n",
              "          element.appendChild(docLink);\n",
              "        }\n",
              "      </script>\n",
              "    </div>\n",
              "  </div>\n",
              "  "
            ]
          },
          "metadata": {},
          "execution_count": 109
        }
      ]
    },
    {
      "cell_type": "markdown",
      "source": [
        "The covariance will therefore make it possible to know the correlation that exists between these two variables. when the  the covariance decreases  the correlation decreases as well, the variables are then independent\n"
      ],
      "metadata": {
        "id": "eaxah4GApPjl"
      }
    },
    {
      "cell_type": "code",
      "source": [
        "# Create and show the annualized covariance matrix\n",
        "#252 is the number of periods per observation\n",
        "cov_matrix_annual = returns.cov()*252\n",
        "cov_matrix_annual"
      ],
      "metadata": {
        "colab": {
          "base_uri": "https://localhost:8080/",
          "height": 363
        },
        "id": "pliIrbmgI0CD",
        "outputId": "56599e5f-f354-4f66-b433-113c4e9e4b85"
      },
      "execution_count": null,
      "outputs": [
        {
          "output_type": "execute_result",
          "data": {
            "text/plain": [
              "          GOOG       MNG      TSLA      AAPL      MSFT      AMZN       TGT  \\\n",
              "GOOG  0.094705  0.058233  0.079666  0.075048  0.079667  0.070064  0.034750   \n",
              "MNG   0.058233  0.155441  0.084655  0.063029  0.059084  0.041959  0.040269   \n",
              "TSLA  0.079666  0.084655  0.465467  0.098497  0.097109  0.088806  0.037865   \n",
              "AAPL  0.075048  0.063029  0.098497  0.123218  0.087084  0.076401  0.047004   \n",
              "MSFT  0.079667  0.059084  0.097109  0.087084  0.103984  0.078770  0.046893   \n",
              "AMZN  0.070064  0.041959  0.088806  0.076401  0.078770  0.110312  0.036567   \n",
              "TGT   0.034750  0.040269  0.037865  0.047004  0.046893  0.036567  0.110174   \n",
              "META  0.082049  0.059126  0.086176  0.082834  0.080752  0.079814  0.034573   \n",
              "NFLX  0.071704  0.043002  0.104894  0.075916  0.080560  0.094953  0.036430   \n",
              "PYPL  0.081015  0.061857  0.104574  0.089963  0.095914  0.081004  0.045364   \n",
              "\n",
              "          META      NFLX      PYPL  \n",
              "GOOG  0.082049  0.071704  0.081015  \n",
              "MNG   0.059126  0.043002  0.061857  \n",
              "TSLA  0.086176  0.104894  0.104574  \n",
              "AAPL  0.082834  0.075916  0.089963  \n",
              "MSFT  0.080752  0.080560  0.095914  \n",
              "AMZN  0.079814  0.094953  0.081004  \n",
              "TGT   0.034573  0.036430  0.045364  \n",
              "META  0.144434  0.082159  0.090427  \n",
              "NFLX  0.082159  0.182118  0.081208  \n",
              "PYPL  0.090427  0.081208  0.151510  "
            ],
            "text/html": [
              "\n",
              "  <div id=\"df-4b403da7-2f4c-4895-9460-bcd34199425b\">\n",
              "    <div class=\"colab-df-container\">\n",
              "      <div>\n",
              "<style scoped>\n",
              "    .dataframe tbody tr th:only-of-type {\n",
              "        vertical-align: middle;\n",
              "    }\n",
              "\n",
              "    .dataframe tbody tr th {\n",
              "        vertical-align: top;\n",
              "    }\n",
              "\n",
              "    .dataframe thead th {\n",
              "        text-align: right;\n",
              "    }\n",
              "</style>\n",
              "<table border=\"1\" class=\"dataframe\">\n",
              "  <thead>\n",
              "    <tr style=\"text-align: right;\">\n",
              "      <th></th>\n",
              "      <th>GOOG</th>\n",
              "      <th>MNG</th>\n",
              "      <th>TSLA</th>\n",
              "      <th>AAPL</th>\n",
              "      <th>MSFT</th>\n",
              "      <th>AMZN</th>\n",
              "      <th>TGT</th>\n",
              "      <th>META</th>\n",
              "      <th>NFLX</th>\n",
              "      <th>PYPL</th>\n",
              "    </tr>\n",
              "  </thead>\n",
              "  <tbody>\n",
              "    <tr>\n",
              "      <th>GOOG</th>\n",
              "      <td>0.094705</td>\n",
              "      <td>0.058233</td>\n",
              "      <td>0.079666</td>\n",
              "      <td>0.075048</td>\n",
              "      <td>0.079667</td>\n",
              "      <td>0.070064</td>\n",
              "      <td>0.034750</td>\n",
              "      <td>0.082049</td>\n",
              "      <td>0.071704</td>\n",
              "      <td>0.081015</td>\n",
              "    </tr>\n",
              "    <tr>\n",
              "      <th>MNG</th>\n",
              "      <td>0.058233</td>\n",
              "      <td>0.155441</td>\n",
              "      <td>0.084655</td>\n",
              "      <td>0.063029</td>\n",
              "      <td>0.059084</td>\n",
              "      <td>0.041959</td>\n",
              "      <td>0.040269</td>\n",
              "      <td>0.059126</td>\n",
              "      <td>0.043002</td>\n",
              "      <td>0.061857</td>\n",
              "    </tr>\n",
              "    <tr>\n",
              "      <th>TSLA</th>\n",
              "      <td>0.079666</td>\n",
              "      <td>0.084655</td>\n",
              "      <td>0.465467</td>\n",
              "      <td>0.098497</td>\n",
              "      <td>0.097109</td>\n",
              "      <td>0.088806</td>\n",
              "      <td>0.037865</td>\n",
              "      <td>0.086176</td>\n",
              "      <td>0.104894</td>\n",
              "      <td>0.104574</td>\n",
              "    </tr>\n",
              "    <tr>\n",
              "      <th>AAPL</th>\n",
              "      <td>0.075048</td>\n",
              "      <td>0.063029</td>\n",
              "      <td>0.098497</td>\n",
              "      <td>0.123218</td>\n",
              "      <td>0.087084</td>\n",
              "      <td>0.076401</td>\n",
              "      <td>0.047004</td>\n",
              "      <td>0.082834</td>\n",
              "      <td>0.075916</td>\n",
              "      <td>0.089963</td>\n",
              "    </tr>\n",
              "    <tr>\n",
              "      <th>MSFT</th>\n",
              "      <td>0.079667</td>\n",
              "      <td>0.059084</td>\n",
              "      <td>0.097109</td>\n",
              "      <td>0.087084</td>\n",
              "      <td>0.103984</td>\n",
              "      <td>0.078770</td>\n",
              "      <td>0.046893</td>\n",
              "      <td>0.080752</td>\n",
              "      <td>0.080560</td>\n",
              "      <td>0.095914</td>\n",
              "    </tr>\n",
              "    <tr>\n",
              "      <th>AMZN</th>\n",
              "      <td>0.070064</td>\n",
              "      <td>0.041959</td>\n",
              "      <td>0.088806</td>\n",
              "      <td>0.076401</td>\n",
              "      <td>0.078770</td>\n",
              "      <td>0.110312</td>\n",
              "      <td>0.036567</td>\n",
              "      <td>0.079814</td>\n",
              "      <td>0.094953</td>\n",
              "      <td>0.081004</td>\n",
              "    </tr>\n",
              "    <tr>\n",
              "      <th>TGT</th>\n",
              "      <td>0.034750</td>\n",
              "      <td>0.040269</td>\n",
              "      <td>0.037865</td>\n",
              "      <td>0.047004</td>\n",
              "      <td>0.046893</td>\n",
              "      <td>0.036567</td>\n",
              "      <td>0.110174</td>\n",
              "      <td>0.034573</td>\n",
              "      <td>0.036430</td>\n",
              "      <td>0.045364</td>\n",
              "    </tr>\n",
              "    <tr>\n",
              "      <th>META</th>\n",
              "      <td>0.082049</td>\n",
              "      <td>0.059126</td>\n",
              "      <td>0.086176</td>\n",
              "      <td>0.082834</td>\n",
              "      <td>0.080752</td>\n",
              "      <td>0.079814</td>\n",
              "      <td>0.034573</td>\n",
              "      <td>0.144434</td>\n",
              "      <td>0.082159</td>\n",
              "      <td>0.090427</td>\n",
              "    </tr>\n",
              "    <tr>\n",
              "      <th>NFLX</th>\n",
              "      <td>0.071704</td>\n",
              "      <td>0.043002</td>\n",
              "      <td>0.104894</td>\n",
              "      <td>0.075916</td>\n",
              "      <td>0.080560</td>\n",
              "      <td>0.094953</td>\n",
              "      <td>0.036430</td>\n",
              "      <td>0.082159</td>\n",
              "      <td>0.182118</td>\n",
              "      <td>0.081208</td>\n",
              "    </tr>\n",
              "    <tr>\n",
              "      <th>PYPL</th>\n",
              "      <td>0.081015</td>\n",
              "      <td>0.061857</td>\n",
              "      <td>0.104574</td>\n",
              "      <td>0.089963</td>\n",
              "      <td>0.095914</td>\n",
              "      <td>0.081004</td>\n",
              "      <td>0.045364</td>\n",
              "      <td>0.090427</td>\n",
              "      <td>0.081208</td>\n",
              "      <td>0.151510</td>\n",
              "    </tr>\n",
              "  </tbody>\n",
              "</table>\n",
              "</div>\n",
              "      <button class=\"colab-df-convert\" onclick=\"convertToInteractive('df-4b403da7-2f4c-4895-9460-bcd34199425b')\"\n",
              "              title=\"Convert this dataframe to an interactive table.\"\n",
              "              style=\"display:none;\">\n",
              "        \n",
              "  <svg xmlns=\"http://www.w3.org/2000/svg\" height=\"24px\"viewBox=\"0 0 24 24\"\n",
              "       width=\"24px\">\n",
              "    <path d=\"M0 0h24v24H0V0z\" fill=\"none\"/>\n",
              "    <path d=\"M18.56 5.44l.94 2.06.94-2.06 2.06-.94-2.06-.94-.94-2.06-.94 2.06-2.06.94zm-11 1L8.5 8.5l.94-2.06 2.06-.94-2.06-.94L8.5 2.5l-.94 2.06-2.06.94zm10 10l.94 2.06.94-2.06 2.06-.94-2.06-.94-.94-2.06-.94 2.06-2.06.94z\"/><path d=\"M17.41 7.96l-1.37-1.37c-.4-.4-.92-.59-1.43-.59-.52 0-1.04.2-1.43.59L10.3 9.45l-7.72 7.72c-.78.78-.78 2.05 0 2.83L4 21.41c.39.39.9.59 1.41.59.51 0 1.02-.2 1.41-.59l7.78-7.78 2.81-2.81c.8-.78.8-2.07 0-2.86zM5.41 20L4 18.59l7.72-7.72 1.47 1.35L5.41 20z\"/>\n",
              "  </svg>\n",
              "      </button>\n",
              "      \n",
              "  <style>\n",
              "    .colab-df-container {\n",
              "      display:flex;\n",
              "      flex-wrap:wrap;\n",
              "      gap: 12px;\n",
              "    }\n",
              "\n",
              "    .colab-df-convert {\n",
              "      background-color: #E8F0FE;\n",
              "      border: none;\n",
              "      border-radius: 50%;\n",
              "      cursor: pointer;\n",
              "      display: none;\n",
              "      fill: #1967D2;\n",
              "      height: 32px;\n",
              "      padding: 0 0 0 0;\n",
              "      width: 32px;\n",
              "    }\n",
              "\n",
              "    .colab-df-convert:hover {\n",
              "      background-color: #E2EBFA;\n",
              "      box-shadow: 0px 1px 2px rgba(60, 64, 67, 0.3), 0px 1px 3px 1px rgba(60, 64, 67, 0.15);\n",
              "      fill: #174EA6;\n",
              "    }\n",
              "\n",
              "    [theme=dark] .colab-df-convert {\n",
              "      background-color: #3B4455;\n",
              "      fill: #D2E3FC;\n",
              "    }\n",
              "\n",
              "    [theme=dark] .colab-df-convert:hover {\n",
              "      background-color: #434B5C;\n",
              "      box-shadow: 0px 1px 3px 1px rgba(0, 0, 0, 0.15);\n",
              "      filter: drop-shadow(0px 1px 2px rgba(0, 0, 0, 0.3));\n",
              "      fill: #FFFFFF;\n",
              "    }\n",
              "  </style>\n",
              "\n",
              "      <script>\n",
              "        const buttonEl =\n",
              "          document.querySelector('#df-4b403da7-2f4c-4895-9460-bcd34199425b button.colab-df-convert');\n",
              "        buttonEl.style.display =\n",
              "          google.colab.kernel.accessAllowed ? 'block' : 'none';\n",
              "\n",
              "        async function convertToInteractive(key) {\n",
              "          const element = document.querySelector('#df-4b403da7-2f4c-4895-9460-bcd34199425b');\n",
              "          const dataTable =\n",
              "            await google.colab.kernel.invokeFunction('convertToInteractive',\n",
              "                                                     [key], {});\n",
              "          if (!dataTable) return;\n",
              "\n",
              "          const docLinkHtml = 'Like what you see? Visit the ' +\n",
              "            '<a target=\"_blank\" href=https://colab.research.google.com/notebooks/data_table.ipynb>data table notebook</a>'\n",
              "            + ' to learn more about interactive tables.';\n",
              "          element.innerHTML = '';\n",
              "          dataTable['output_type'] = 'display_data';\n",
              "          await google.colab.output.renderOutput(dataTable, element);\n",
              "          const docLink = document.createElement('div');\n",
              "          docLink.innerHTML = docLinkHtml;\n",
              "          element.appendChild(docLink);\n",
              "        }\n",
              "      </script>\n",
              "    </div>\n",
              "  </div>\n",
              "  "
            ]
          },
          "metadata": {},
          "execution_count": 110
        }
      ]
    },
    {
      "cell_type": "code",
      "source": [
        "# Calculate the portfolio variance\n",
        "port_variance = np.dot(weights.T,np.dot(cov_matrix_annual,weights))\n",
        "port_variance"
      ],
      "metadata": {
        "colab": {
          "base_uri": "https://localhost:8080/"
        },
        "id": "QeO4qovEKv7K",
        "outputId": "a2d77bff-467d-4112-a22e-19f8f7a490e6"
      },
      "execution_count": null,
      "outputs": [
        {
          "output_type": "execute_result",
          "data": {
            "text/plain": [
              "0.08056740561569538"
            ]
          },
          "metadata": {},
          "execution_count": 111
        }
      ]
    },
    {
      "cell_type": "markdown",
      "source": [
        "The volatility of each portfolio is calculated from its historical behavior, based on its amplitude of variation. The constitution of a portfolio is calculated with reference to the constitution of each of the lines that make up this portfolio.\n",
        "The volatility of this portfolio is 8,05%."
      ],
      "metadata": {
        "id": "RRH1lk-lpV5Z"
      }
    },
    {
      "cell_type": "code",
      "source": [
        "# Calculate the portfolio volatility aka standard deviation\n",
        "port_volatility = np.sqrt(port_variance)\n",
        "port_volatility"
      ],
      "metadata": {
        "colab": {
          "base_uri": "https://localhost:8080/"
        },
        "id": "_-Czqj7-K2t9",
        "outputId": "d1b40209-bd21-409b-c4a2-795a4ef0f9ec"
      },
      "execution_count": null,
      "outputs": [
        {
          "output_type": "execute_result",
          "data": {
            "text/plain": [
              "0.28384398111585063"
            ]
          },
          "metadata": {},
          "execution_count": 112
        }
      ]
    },
    {
      "cell_type": "markdown",
      "source": [
        "The global return for the combination [50%]*10 :\n",
        "\n"
      ],
      "metadata": {
        "id": "x4bQzEOEpacD"
      }
    },
    {
      "cell_type": "code",
      "source": [
        "# Calculate the annual portfolio return\n",
        "portfolio_simple_annual_return = np.sum(returns.mean()*weights)*252\n",
        "portfolio_simple_annual_return"
      ],
      "metadata": {
        "colab": {
          "base_uri": "https://localhost:8080/"
        },
        "id": "fY4rLmOSK7Xw",
        "outputId": "e2974a4c-aa53-4555-81a9-09273a7bed75"
      },
      "execution_count": null,
      "outputs": [
        {
          "output_type": "execute_result",
          "data": {
            "text/plain": [
              "0.38277979098927056"
            ]
          },
          "metadata": {},
          "execution_count": 113
        }
      ]
    },
    {
      "cell_type": "code",
      "source": [
        "# Sow the expected annual return, volatility (risk), and variance\n",
        "percent_var = str(round(port_variance,2)*100)+'%'\n",
        "percent_vola = str(round(port_volatility,2)*100)+'%'\n",
        "percent_ret = str(round(portfolio_simple_annual_return,2)*100)+'%'\n",
        "\n",
        "print('Expected annual return: '+percent_ret)\n",
        "print('Annual volatility/ risk: '+percent_vola)\n",
        "print('Annual variance: '+percent_var)"
      ],
      "metadata": {
        "colab": {
          "base_uri": "https://localhost:8080/"
        },
        "id": "Ume59WVPK-BZ",
        "outputId": "e757dc3b-fb8f-41ec-be96-60f02dcd152a"
      },
      "execution_count": null,
      "outputs": [
        {
          "output_type": "stream",
          "name": "stdout",
          "text": [
            "Expected annual return: 38.0%\n",
            "Annual volatility/ risk: 28.000000000000004%\n",
            "Annual variance: 8.0%\n"
          ]
        }
      ]
    },
    {
      "cell_type": "code",
      "source": [
        "pip install PyPortfolioOpt"
      ],
      "metadata": {
        "id": "J9Qr4SPBWkln"
      },
      "execution_count": null,
      "outputs": []
    },
    {
      "cell_type": "code",
      "source": [
        "from pypfopt.efficient_frontier import EfficientFrontier\n",
        "from pypfopt import risk_models\n",
        "from pypfopt import expected_returns\n",
        "from pypfopt import plotting"
      ],
      "metadata": {
        "id": "LD-w_RffLFdc"
      },
      "execution_count": null,
      "outputs": []
    },
    {
      "cell_type": "markdown",
      "source": [
        "> **Global Return :**\n",
        "\n",
        "\n",
        "RETURN :  38% \\\\\n",
        "SD : 28%\n",
        "\n",
        "Therefore, many calculations are required to find the optimal combination.\n"
      ],
      "metadata": {
        "id": "JjpPV38nqtsI"
      }
    },
    {
      "cell_type": "code",
      "source": [
        "# Portfolio Optimization\n",
        "\n",
        "# Calculate the expected returns and the annualized sample covariance matrix of asset returns\n",
        "mu = expected_returns.mean_historical_return(df)\n",
        "S = risk_models.sample_cov(df)\n",
        "\n",
        "# Optimize for maximum sharpe ratio\n",
        "ef = EfficientFrontier(mu,S,weight_bounds=(0,1))\n",
        "ef.add_constraint(lambda w: w[0]+w[1]+w[2]+w[3]+w[4]+w[5]+w[6]+w[7]+w[8]+w[9] == 1)\n",
        "weights = ef.max_sharpe()\n",
        "cleaned_weights = ef.clean_weights()\n",
        "print(cleaned_weights)\n",
        "ef.portfolio_performance(verbose=True)"
      ],
      "metadata": {
        "id": "cLnkm9RmLMNC",
        "colab": {
          "base_uri": "https://localhost:8080/"
        },
        "outputId": "874626ea-19f5-47f2-f936-7a788d290140"
      },
      "execution_count": null,
      "outputs": [
        {
          "output_type": "stream",
          "name": "stdout",
          "text": [
            "OrderedDict([('GOOG', 0.0), ('MNG', 0.0), ('TSLA', 0.3742), ('AAPL', 0.13595), ('MSFT', 0.0), ('AMZN', 0.0452), ('TGT', 0.41366), ('META', 0.0), ('NFLX', 0.0), ('PYPL', 0.031)])\n",
            "Expected annual return: 72.9%\n",
            "Annual volatility: 35.2%\n",
            "Sharpe Ratio: 2.02\n"
          ]
        },
        {
          "output_type": "execute_result",
          "data": {
            "text/plain": [
              "(0.7286422629058293, 0.3515569201072076, 2.0157255408021215)"
            ]
          },
          "metadata": {},
          "execution_count": 117
        }
      ]
    },
    {
      "cell_type": "code",
      "source": [
        "!pip install cvxpy[glpk]\n",
        "\n",
        "# Get the discrete allocation of each share per stock\n",
        "from pypfopt.discrete_allocation import DiscreteAllocation, get_latest_prices\n",
        "\n",
        "latest_prices = get_latest_prices(df)\n",
        "weights = cleaned_weights\n",
        "da = DiscreteAllocation(weights,latest_prices,total_portfolio_value = 50000)\n",
        "\n",
        "allocation,leftover = da.lp_portfolio(solver=\"GLPK_MI\")\n",
        "print('Discrete allocation: ',allocation)\n",
        "print('Funds remaining: ${:.2f}'.format(leftover))"
      ],
      "metadata": {
        "id": "vNOrURjtLQoQ"
      },
      "execution_count": null,
      "outputs": []
    },
    {
      "cell_type": "code",
      "source": [
        "ef = EfficientFrontier(mu,S,weight_bounds=(0,1))\n",
        "ef.add_constraint(lambda w: w[0]+w[1]+w[2]+w[3]+w[4]+w[5]+w[6]+w[7]+w[8]+w[9] == 1)\n",
        "plotting.plot_efficient_frontier(ef)"
      ],
      "metadata": {
        "colab": {
          "base_uri": "https://localhost:8080/",
          "height": 491
        },
        "id": "l1SM2nLlzEZZ",
        "outputId": "df921537-e441-40bb-811a-232d2b6f3208"
      },
      "execution_count": null,
      "outputs": [
        {
          "output_type": "execute_result",
          "data": {
            "text/plain": [
              "<Axes: xlabel='Volatility', ylabel='Return'>"
            ]
          },
          "metadata": {},
          "execution_count": 122
        },
        {
          "output_type": "display_data",
          "data": {
            "text/plain": [
              "<Figure size 640x480 with 1 Axes>"
            ],
            "image/png": "[encoded data removed]"
          },
          "metadata": {}
        }
      ]
    },
    {
      "cell_type": "code",
      "source": [
        "# Portfolio Optimization\n",
        "# Calculate the expected returns and the annualized sample covariance matrix of asset returns\n",
        "mu = expected_returns.mean_historical_return(df)\n",
        "S = risk_models.sample_cov(df)\n",
        "# Optimize for maximum sharpe ratio\n",
        "ef = EfficientFrontier(mu,S,weight_bounds=(0,1))\n",
        "ef.add_constraint(lambda w: w[0]+w[1]+w[2]+w[3]+w[4]+w[5]+w[6]+w[7]+w[8]+w[9] == 1)\n",
        "plotting.plot_efficient_frontier(ef)\n",
        "ef = EfficientFrontier(mu,S,weight_bounds=(0,1))\n",
        "ef.add_constraint(lambda w: w[0]+w[1]+w[2]+w[3]+w[4]+w[5]+w[6]+w[7]+w[8]+w[9] == 1)\n",
        "weights = ef.max_sharpe()\n",
        "cleaned_weights = ef.clean_weights()\n",
        "print(cleaned_weights)\n",
        "ef.portfolio_performance(verbose=True)"
      ],
      "metadata": {
        "id": "cY99CnFLLVYF",
        "colab": {
          "base_uri": "https://localhost:8080/",
          "height": 561
        },
        "outputId": "31b6bdc6-09e9-4d6e-a5b3-921431f666a8"
      },
      "execution_count": null,
      "outputs": [
        {
          "output_type": "stream",
          "name": "stdout",
          "text": [
            "OrderedDict([('GOOG', 0.0), ('MNG', 0.0), ('TSLA', 0.3742), ('AAPL', 0.13595), ('MSFT', 0.0), ('AMZN', 0.0452), ('TGT', 0.41366), ('META', 0.0), ('NFLX', 0.0), ('PYPL', 0.031)])\n",
            "Expected annual return: 72.9%\n",
            "Annual volatility: 35.2%\n",
            "Sharpe Ratio: 2.02\n"
          ]
        },
        {
          "output_type": "execute_result",
          "data": {
            "text/plain": [
              "(0.7286422629058293, 0.3515569201072076, 2.0157255408021215)"
            ]
          },
          "metadata": {},
          "execution_count": 123
        },
        {
          "output_type": "display_data",
          "data": {
            "text/plain": [
              "<Figure size 640x480 with 1 Axes>"
            ],
            "image/png": "[encoded data removed]"
          },
          "metadata": {}
        }
      ]
    },
    {
      "cell_type": "markdown",
      "source": [
        "Now we suppose that our client can give a restriction of volatility. \\\\\n",
        "The rate of return of bonds used in our case is supposed to be 2%. \\\\\n",
        "The following is an array of possible combinations that surely decrease the volatility (but can not be in any case less than 2% )."
      ],
      "metadata": {
        "id": "CqUAaD72q3EM"
      }
    },
    {
      "cell_type": "code",
      "source": [
        "import pandas as pd\n",
        "\n",
        "data = {'Risky asset': [0],\n",
        "\t'RFR': [1],\n",
        "\t'Return P': [0.0200],\n",
        "\t'SD P': [0.00000]}\n",
        "retur = 0.729\n",
        "RFR1 = 0.02\n",
        "volatility = 0.352\n",
        "#create dataframe\n",
        "df_marks = pd.DataFrame(data)\n",
        "\n",
        "for i in range(1, 101, 1):\n",
        "    new_row = pd.DataFrame({'Risky asset': i / 100, 'RFR': 1 - i / 100, 'Return P': (i / 100) * retur + (1 - (i / 100)) * RFR1,\n",
        "               'SD P': (i / 100) * volatility}, index=[len(df_marks)])\n",
        "    # Append row to the dataframe\n",
        "    df_marks = pd.concat([df_marks, new_row])\n",
        "\n",
        "print(df_marks)"
      ],
      "metadata": {
        "id": "b5wrz8PAWQud",
        "colab": {
          "base_uri": "https://localhost:8080/"
        },
        "outputId": "31b200c2-adbf-4f69-ab3e-2a0b7827a53a"
      },
      "execution_count": null,
      "outputs": [
        {
          "output_type": "stream",
          "name": "stdout",
          "text": [
            "     Risky asset   RFR  Return P     SD P\n",
            "0           0.00  1.00   0.02000  0.00000\n",
            "1           0.01  0.99   0.02709  0.00352\n",
            "2           0.02  0.98   0.03418  0.00704\n",
            "3           0.03  0.97   0.04127  0.01056\n",
            "4           0.04  0.96   0.04836  0.01408\n",
            "..           ...   ...       ...      ...\n",
            "96          0.96  0.04   0.70064  0.33792\n",
            "97          0.97  0.03   0.70773  0.34144\n",
            "98          0.98  0.02   0.71482  0.34496\n",
            "99          0.99  0.01   0.72191  0.34848\n",
            "100         1.00  0.00   0.72900  0.35200\n",
            "\n",
            "[101 rows x 4 columns]\n"
          ]
        }
      ]
    },
    {
      "cell_type": "code",
      "source": [
        "title = 'Return P. SD P'\n",
        "\n",
        "# Create and plot the graph\n",
        "plt.plot(df_marks['SD P'], df_marks['Return P'], color='red')\n",
        "\n",
        "plt.title(title)\n",
        "plt.xlabel('SD P',fontsize=15)\n",
        "plt.ylabel('Return  P',fontsize=15)\n",
        "ef = EfficientFrontier(mu,S,weight_bounds=(0,1))\n",
        "ef.add_constraint(lambda w: w[0]+w[1]+w[2]+w[3]+w[4]+w[5]+w[6]+w[7]+w[8]+w[9] == 1)\n",
        "plotting.plot_efficient_frontier(ef)\n",
        "plt.show()"
      ],
      "metadata": {
        "colab": {
          "base_uri": "https://localhost:8080/",
          "height": 475
        },
        "id": "dctr9ZG5mkn8",
        "outputId": "5f28d146-5099-4e69-b6f0-2fd60e2d8917"
      },
      "execution_count": null,
      "outputs": [
        {
          "output_type": "display_data",
          "data": {
            "text/plain": [
              "<Figure size 640x480 with 1 Axes>"
            ],
            "image/png": "[encoded data removed]"
          },
          "metadata": {}
        }
      ]
    },
    {
      "cell_type": "markdown",
      "source": [
        "Only one asset lies on the curve of the efficient frontier while the others fall below it, it suggests that the portfolio is not well-diversified and does not offer an optimal mix of investments. Here's a breakdown of the situation:\n",
        "\n",
        "\n",
        "> 1.TGT : It is the only stock that lies on the curve of the efficient frontier. This indicates that TGT's risk and expected return are in line with the optimal portfolio allocation based on our analysis.\n",
        "\n",
        "> 2.Google, Apple, Tesla, Microsoft, Netflix, Amazon, Paypal, Meta, and Managem: Since these stocks fall below the frontier curve, it suggests that their risk and expected returns are not as favorable when compared to TGT and the optimal portfolios. These stocks may have higher risk or lower expected returns relative to the efficient frontier.\\\n",
        "To improve the portfolio, we may consider diversifying our investments by allocating a portion of our funds to assets that have the potential to provide a better risk-return trade-off. Including assets that lie on or closer to the efficient frontier can help achieve a more desirable mix of investments.\n",
        "\n"
      ],
      "metadata": {
        "id": "cjRmykreSgLu"
      }
    }
  ]
}